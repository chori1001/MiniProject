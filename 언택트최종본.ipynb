{
 "cells": [
  {
   "cell_type": "code",
   "execution_count": 27,
   "metadata": {},
   "outputs": [],
   "source": [
    "# 필요 모듈 Import\n",
    "\n",
    "import cv2\n",
    "import numpy as np\n",
    "from skimage import io\n",
    "from skimage.transform import resize\n",
    "import tensorflow as tf\n",
    "from tensorflow import keras\n",
    "import pandas as pd\n",
    "from gtts import gTTS\n",
    "import hgtk\n",
    "from io import BytesIO\n",
    "import webbrowser"
   ]
  },
  {
   "cell_type": "code",
   "execution_count": 23,
   "metadata": {},
   "outputs": [],
   "source": [
    "# 동화 및 아이한글 크롤링 자료 중 3글자인 것들만 추출하여 저장한 파일 불러오기. (사전 전처리 및 저장 진행)\n",
    "\n",
    "number3 = open('C:/Users/user/Desktop/PPT/data/number3/3str.txt' ,encoding='utf-8').readlines()"
   ]
  },
  {
   "cell_type": "code",
   "execution_count": 24,
   "metadata": {},
   "outputs": [],
   "source": [
    "n3 = [] # '\\n' 기호 제거 (저장하면 나타나지는 않지만 깔끔한 정돈을 위하여.)\n",
    "\n",
    "for line in number3:\n",
    "    replace_line = line.replace('\\n','')\n",
    "    n3.append(replace_line)"
   ]
  },
  {
   "cell_type": "code",
   "execution_count": 25,
   "metadata": {},
   "outputs": [
    {
     "name": "stdout",
     "output_type": "stream",
     "text": [
      "423\n"
     ]
    }
   ],
   "source": [
    "# 중복 제거 - 기존 파일 생성할 때 했었어야 하는 부분인데 빠뜨려서 추가 진행.\n",
    "\n",
    "new_list = []\n",
    "for v in n3:\n",
    "    if v not in new_list:\n",
    "        new_list.append(v)\n",
    "print(len(new_list))"
   ]
  },
  {
   "cell_type": "code",
   "execution_count": 5,
   "metadata": {},
   "outputs": [],
   "source": [
    "# hgtk 자-모음 분리 모듈\n",
    "\n",
    "dc= []\n",
    "for i in range(0, len(new_list)):\n",
    "    dc.append(hgtk.text.decompose(new_list[i]))"
   ]
  },
  {
   "cell_type": "code",
   "execution_count": 9,
   "metadata": {},
   "outputs": [],
   "source": [
    "# 'ㅂ'/'ㄷ' 된소리되기 문제 생성, 이런 식으로 조건을 걸어서 문제를 생성해낼 수 있음. ex)유음화, 비음화, 된소리되기, 특정 단어 등등...\n",
    "\n",
    "select2=\"ㅂᴥㄷ\"\n",
    "hard_list= []\n",
    "for select in dc:\n",
    "    if select2 in select or \"ㄷᴥㅂ\" in select :\n",
    "        hard_list.append(select)"
   ]
  },
  {
   "cell_type": "code",
   "execution_count": 7,
   "metadata": {},
   "outputs": [
    {
     "name": "stdout",
     "output_type": "stream",
     "text": [
      "['ㅈㅡㄹᴥㄱㅓㅂᴥㄷㅏᴥ', 'ㅊㅏᴥㄱㅏㅂᴥㄷㅏᴥ', 'ㄴㅗㄹᴥㄹㅏㅂᴥㄷㅏᴥ', 'ㅅㅏᴥㄴㅏㅂᴥㄷㅏᴥ', 'ㅁㅜᴥㅅㅓㅂᴥㄷㅏᴥ', 'ㄱㅗㄷᴥㅂㅏᴥㄹㅗᴥ']\n"
     ]
    }
   ],
   "source": [
    "# hgtk 모듈의 경우, 분리 간에 'ᴥ' 기호가 추가가 되는데 이는 필요시 정규식을 통해 제거가 가능.\n",
    "\n",
    "print(hard_list)"
   ]
  },
  {
   "cell_type": "code",
   "execution_count": 11,
   "metadata": {},
   "outputs": [
    {
     "name": "stdout",
     "output_type": "stream",
     "text": [
      "['즐겁다', '차갑다', '놀랍다', '사납다', '무섭다', '곧바로']\n"
     ]
    }
   ],
   "source": [
    "# 비음, 유음화가 진행된 단어 추출 (compose는 decompose 반대, 다시 합치는 명령어.)\n",
    "\n",
    "cm = []\n",
    "for i in range(0, len(hard_list)):\n",
    "    cm.append(hgtk.text.compose(hard_list[i]))\n",
    "print(cm)"
   ]
  },
  {
   "cell_type": "code",
   "execution_count": 12,
   "metadata": {},
   "outputs": [
    {
     "name": "stdout",
     "output_type": "stream",
     "text": [
      "무섭다\n"
     ]
    }
   ],
   "source": [
    "# 위의 단어들 가운데 임의로 1개 추출.\n",
    "\n",
    "import random\n",
    "\n",
    "index = random.randint(0,len(cm))\n",
    "print(cm[index])"
   ]
  },
  {
   "cell_type": "code",
   "execution_count": 14,
   "metadata": {},
   "outputs": [],
   "source": [
    "# 받아쓰기 정답과 비교를 위한 과정 (아래 코드에서 사용)\n",
    "\n",
    "model_text = cm[index]"
   ]
  },
  {
   "cell_type": "code",
   "execution_count": 15,
   "metadata": {},
   "outputs": [],
   "source": [
    "# 문제를 읽어주는 파일 생성 및 웹 재생.\n",
    "\n",
    "tts = gTTS(text=cm[index], lang='ko')\n",
    "tts.save(\"bskyvision.mp3\")"
   ]
  },
  {
   "cell_type": "code",
   "execution_count": 16,
   "metadata": {},
   "outputs": [
    {
     "data": {
      "text/plain": [
       "True"
      ]
     },
     "execution_count": 16,
     "metadata": {},
     "output_type": "execute_result"
    }
   ],
   "source": [
    "webbrowser.open('bskyvision.mp3')"
   ]
  },
  {
   "cell_type": "code",
   "execution_count": 21,
   "metadata": {
    "scrolled": true
   },
   "outputs": [
    {
     "name": "stdout",
     "output_type": "stream",
     "text": [
      "Model: \"sequential_1\"\n",
      "_________________________________________________________________\n",
      "Layer (type)                 Output Shape              Param #   \n",
      "=================================================================\n",
      "conv2d_1 (Conv2D)            (None, 32, 32, 32)        896       \n",
      "_________________________________________________________________\n",
      "activation_1 (Activation)    (None, 32, 32, 32)        0         \n",
      "_________________________________________________________________\n",
      "conv2d_2 (Conv2D)            (None, 30, 30, 32)        9248      \n",
      "_________________________________________________________________\n",
      "activation_2 (Activation)    (None, 30, 30, 32)        0         \n",
      "_________________________________________________________________\n",
      "max_pooling2d_1 (MaxPooling2 (None, 15, 15, 32)        0         \n",
      "_________________________________________________________________\n",
      "dropout_1 (Dropout)          (None, 15, 15, 32)        0         \n",
      "_________________________________________________________________\n",
      "conv2d_3 (Conv2D)            (None, 15, 15, 64)        18496     \n",
      "_________________________________________________________________\n",
      "activation_3 (Activation)    (None, 15, 15, 64)        0         \n",
      "_________________________________________________________________\n",
      "dropout_2 (Dropout)          (None, 15, 15, 64)        0         \n",
      "_________________________________________________________________\n",
      "conv2d_4 (Conv2D)            (None, 13, 13, 64)        36928     \n",
      "_________________________________________________________________\n",
      "activation_4 (Activation)    (None, 13, 13, 64)        0         \n",
      "_________________________________________________________________\n",
      "max_pooling2d_2 (MaxPooling2 (None, 6, 6, 64)          0         \n",
      "_________________________________________________________________\n",
      "dropout_3 (Dropout)          (None, 6, 6, 64)          0         \n",
      "_________________________________________________________________\n",
      "flatten_1 (Flatten)          (None, 2304)              0         \n",
      "_________________________________________________________________\n",
      "dense_1 (Dense)              (None, 512)               1180160   \n",
      "_________________________________________________________________\n",
      "activation_5 (Activation)    (None, 512)               0         \n",
      "_________________________________________________________________\n",
      "dropout_4 (Dropout)          (None, 512)               0         \n",
      "_________________________________________________________________\n",
      "dense_2 (Dense)              (None, 980)               502740    \n",
      "_________________________________________________________________\n",
      "activation_6 (Activation)    (None, 980)               0         \n",
      "=================================================================\n",
      "Total params: 1,748,468\n",
      "Trainable params: 1,748,468\n",
      "Non-trainable params: 0\n",
      "_________________________________________________________________\n"
     ]
    }
   ],
   "source": [
    "# 한글 데이터 모델 불러오기\n",
    "\n",
    "model = keras.models.load_model('hand_written_korean_classification.hdf5') # 총 46,060개 한글 손 글씨 이미지를 바탕으로 만들어진 모델\n",
    "model.summary()"
   ]
  },
  {
   "cell_type": "code",
   "execution_count": 18,
   "metadata": {},
   "outputs": [],
   "source": [
    "# 한글 데이터셋에 포함되어 있는 라벨 불러오기\n",
    "\n",
    "label = pd.read_table('./label.txt',header=None)\n",
    "label = label.reset_index(0)"
   ]
  },
  {
   "cell_type": "code",
   "execution_count": 19,
   "metadata": {},
   "outputs": [],
   "source": [
    "drawing = False\n",
    "ix, iy = -1, -1"
   ]
  },
  {
   "cell_type": "code",
   "execution_count": 26,
   "metadata": {
    "scrolled": true
   },
   "outputs": [
    {
     "name": "stdout",
     "output_type": "stream",
     "text": [
      "입력값 :  꾸\n",
      "입력값 :  극\n",
      "입력값 :  극\n",
      "사용자답안 : 꾸극극\n"
     ]
    }
   ],
   "source": [
    "def draw_circle(event, x, y, flags, param):\n",
    "     global ix, iy, drawing, mode\n",
    "\n",
    "     if event == cv2.EVENT_LBUTTONDOWN:\n",
    "        drawing = True\n",
    "        ix, iy = x, y\n",
    "\n",
    "     if event == cv2.EVENT_MOUSEMOVE:\n",
    "          if drawing == True:\n",
    "                cv2.circle(img, (x, y), 5, (255, 255, 255), -1)\n",
    "\n",
    "     elif event == cv2.EVENT_LBUTTONUP:\n",
    "        drawing = False\n",
    "        cv2.circle(img, (x, y), 5, (255, 255, 255), -1)\n",
    "\n",
    "def Answer(img):\n",
    "    img = cv2.resize(img, dsize=(96, 32), interpolation=cv2.INTER_AREA)\n",
    "    \n",
    "    word1 = img[:,:32,:]\n",
    "    word2 = img[:,32:64,:]\n",
    "    word3 = img[:,64:,:]\n",
    "    \n",
    "    word1 = cv2.resize(word1, dsize=(32,32))\n",
    "    word1 = 255 - word1\n",
    "    word1 = word1.reshape(1,32,32,3)\n",
    "    word1 = word1/255\n",
    "    \n",
    "    word2 = cv2.resize(word2, dsize=(32,32))\n",
    "    word2 = 255 - word2\n",
    "    word2 = word2.reshape(1,32,32,3)\n",
    "    word2 = word2/255\n",
    "    \n",
    "    word3 = cv2.resize(word3, dsize=(32,32))\n",
    "    word3 = 255 - word3\n",
    "    word3 = word3.reshape(1,32,32,3)\n",
    "    word3 = word3/255\n",
    "   \n",
    "   # img = img.reshape(32, 32, 3)\n",
    "   # img = 255 - img\n",
    "   # img = cv2.resize(img, dsize=(32, 32))\n",
    "\n",
    "    \n",
    "   # img = img.reshape(1,32,32,3)\n",
    "   # img = img/255\n",
    "   \n",
    "    print('입력값 : ', label.iloc[int(model.predict_classes(word1)),1])\n",
    "    a1 = label.iloc[int(model.predict_classes(word1)),1]\n",
    "    print('입력값 : ', label.iloc[int(model.predict_classes(word2)),1])\n",
    "    a2 = label.iloc[int(model.predict_classes(word2)),1]\n",
    "    print('입력값 : ', label.iloc[int(model.predict_classes(word3)),1])\n",
    "    a3 = label.iloc[int(model.predict_classes(word3)),1]\n",
    "    answer = a1+a2+a3\n",
    "    print('사용자답안 :', answer)\n",
    "    if(model_text == answer):\n",
    "        path = 'C:/Users/user/Desktop/PPT/answer.png'\n",
    "        image = cv2.imread(path)\n",
    "        cv2.imshow('Good',image)\n",
    "    else :\n",
    "        path = 'C:/Users/user/Desktop/PPT/fail.png'\n",
    "        image1 = cv2.imread(path)\n",
    "        cv2.imshow('No',image1)\n",
    "    \n",
    "img = np.zeros((300, 900, 3), np.uint8)\n",
    "img[:,300,:]=255\n",
    "img[:,600,:]=255\n",
    "cv2.namedWindow('Gakduki')\n",
    "cv2.setMouseCallback('Gakduki', draw_circle)\n",
    "\n",
    "\n",
    "while(1):\n",
    "     cv2.imshow('Gakduki', img)\n",
    "     k = cv2.waitKey(1) & 0xFF\n",
    "\n",
    "     if k == 27: # ESC-CLOSE\n",
    "        break\n",
    "     elif k == 13: \n",
    "          Answer(img)\n",
    "          img = np.zeros((300, 900, 3), np.uint8)\n",
    "          img[:,300,:]=255\n",
    "          img[:,600,:]=255\n",
    "\n",
    "#---------------------------------------\n",
    "cv2.destroyAllWindows()"
   ]
  },
  {
   "cell_type": "code",
   "execution_count": null,
   "metadata": {},
   "outputs": [],
   "source": []
  }
 ],
 "metadata": {
  "kernelspec": {
   "display_name": "Python 3",
   "language": "python",
   "name": "python3"
  },
  "language_info": {
   "codemirror_mode": {
    "name": "ipython",
    "version": 3
   },
   "file_extension": ".py",
   "mimetype": "text/x-python",
   "name": "python",
   "nbconvert_exporter": "python",
   "pygments_lexer": "ipython3",
   "version": "3.7.6"
  },
  "toc": {
   "base_numbering": 1,
   "nav_menu": {},
   "number_sections": false,
   "sideBar": true,
   "skip_h1_title": false,
   "title_cell": "Table of Contents",
   "title_sidebar": "Contents",
   "toc_cell": false,
   "toc_position": {},
   "toc_section_display": true,
   "toc_window_display": false
  }
 },
 "nbformat": 4,
 "nbformat_minor": 4
}
